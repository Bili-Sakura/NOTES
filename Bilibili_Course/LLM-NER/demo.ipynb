{
 "cells": [
  {
   "cell_type": "markdown",
   "metadata": {},
   "source": [
    "## 环境创建"
   ]
  },
  {
   "cell_type": "markdown",
   "metadata": {},
   "source": [
    "### 方法一、conda环境"
   ]
  },
  {
   "cell_type": "code",
   "execution_count": null,
   "metadata": {},
   "outputs": [],
   "source": [
    "# 预先安装Anoconda\n",
    "# 在终端输入\n",
    "conda create --name myenv python=3.8 \n",
    "# 这会创建一个名为myenv的Python 3.8环境\n",
    "#  (终端)激活conda环境\n",
    "conda activate myenv\n",
    "pip install ipykernel"
   ]
  },
  {
   "cell_type": "markdown",
   "metadata": {},
   "source": [
    "### 方法二、venv环境"
   ]
  },
  {
   "cell_type": "code",
   "execution_count": null,
   "metadata": {},
   "outputs": [],
   "source": [
    "# 预先安装python\n",
    "# 在终端输入\n",
    "python -m venv myenv\n",
    "# 这会创建一个名为myenv的虚拟环境\n",
    "# (终端)激活环境\n",
    "myenv\\Scripts\\activate\n",
    "pip install ipykernel"
   ]
  },
  {
   "cell_type": "markdown",
   "metadata": {},
   "source": [
    "## 安装依赖"
   ]
  },
  {
   "cell_type": "code",
   "execution_count": 7,
   "metadata": {},
   "outputs": [
    {
     "name": "stdout",
     "output_type": "stream",
     "text": [
      "Requirement already satisfied: openai in c:\\users\\pc\\.conda\\envs\\myenv\\lib\\site-packages (1.66.3)\n",
      "Requirement already satisfied: dotenv in c:\\users\\pc\\.conda\\envs\\myenv\\lib\\site-packages (0.9.9)\n",
      "Collecting zhipuai\n",
      "  Downloading zhipuai-2.1.5.20250106-py3-none-any.whl (105 kB)\n",
      "     -------------------------------------- 105.1/105.1 kB 1.0 MB/s eta 0:00:00\n",
      "Requirement already satisfied: anyio<5,>=3.5.0 in c:\\users\\pc\\.conda\\envs\\myenv\\lib\\site-packages (from openai) (4.5.2)\n",
      "Requirement already satisfied: distro<2,>=1.7.0 in c:\\users\\pc\\.conda\\envs\\myenv\\lib\\site-packages (from openai) (1.9.0)\n",
      "Requirement already satisfied: tqdm>4 in c:\\users\\pc\\.conda\\envs\\myenv\\lib\\site-packages (from openai) (4.67.1)\n",
      "Requirement already satisfied: jiter<1,>=0.4.0 in c:\\users\\pc\\.conda\\envs\\myenv\\lib\\site-packages (from openai) (0.9.0)\n",
      "Requirement already satisfied: typing-extensions<5,>=4.11 in c:\\users\\pc\\.conda\\envs\\myenv\\lib\\site-packages (from openai) (4.12.2)\n",
      "Requirement already satisfied: pydantic<3,>=1.9.0 in c:\\users\\pc\\.conda\\envs\\myenv\\lib\\site-packages (from openai) (2.10.6)\n",
      "Requirement already satisfied: sniffio in c:\\users\\pc\\.conda\\envs\\myenv\\lib\\site-packages (from openai) (1.3.1)\n",
      "Requirement already satisfied: httpx<1,>=0.23.0 in c:\\users\\pc\\.conda\\envs\\myenv\\lib\\site-packages (from openai) (0.28.1)\n",
      "Requirement already satisfied: python-dotenv in c:\\users\\pc\\.conda\\envs\\myenv\\lib\\site-packages (from dotenv) (1.0.1)\n",
      "Collecting cachetools>=4.2.2\n",
      "  Downloading cachetools-5.5.2-py3-none-any.whl (10 kB)\n",
      "Collecting pyjwt<2.9.0,>=2.8.0\n",
      "  Downloading PyJWT-2.8.0-py3-none-any.whl (22 kB)\n",
      "Requirement already satisfied: pydantic-core>=2.14.6 in c:\\users\\pc\\.conda\\envs\\myenv\\lib\\site-packages (from zhipuai) (2.27.2)\n",
      "Requirement already satisfied: idna>=2.8 in c:\\users\\pc\\.conda\\envs\\myenv\\lib\\site-packages (from anyio<5,>=3.5.0->openai) (3.10)\n",
      "Requirement already satisfied: exceptiongroup>=1.0.2 in c:\\users\\pc\\.conda\\envs\\myenv\\lib\\site-packages (from anyio<5,>=3.5.0->openai) (1.2.2)\n",
      "Requirement already satisfied: httpcore==1.* in c:\\users\\pc\\.conda\\envs\\myenv\\lib\\site-packages (from httpx<1,>=0.23.0->openai) (1.0.7)\n",
      "Requirement already satisfied: certifi in c:\\users\\pc\\.conda\\envs\\myenv\\lib\\site-packages (from httpx<1,>=0.23.0->openai) (2025.1.31)\n",
      "Requirement already satisfied: h11<0.15,>=0.13 in c:\\users\\pc\\.conda\\envs\\myenv\\lib\\site-packages (from httpcore==1.*->httpx<1,>=0.23.0->openai) (0.14.0)\n",
      "Requirement already satisfied: annotated-types>=0.6.0 in c:\\users\\pc\\.conda\\envs\\myenv\\lib\\site-packages (from pydantic<3,>=1.9.0->openai) (0.7.0)\n",
      "Requirement already satisfied: colorama in c:\\users\\pc\\.conda\\envs\\myenv\\lib\\site-packages (from tqdm>4->openai) (0.4.6)\n",
      "Installing collected packages: pyjwt, cachetools, zhipuai\n",
      "Successfully installed cachetools-5.5.2 pyjwt-2.8.0 zhipuai-2.1.5.20250106\n"
     ]
    }
   ],
   "source": [
    "!pip install openai dotenv zhipuai\n"
   ]
  },
  {
   "cell_type": "markdown",
   "metadata": {},
   "source": [
    "## Demo-如何调用大模型API"
   ]
  },
  {
   "cell_type": "markdown",
   "metadata": {},
   "source": [
    "1. Deepseek\n",
    "> https://api-docs.deepseek.com/zh-cn/guides/json_mode"
   ]
  },
  {
   "cell_type": "code",
   "execution_count": 3,
   "metadata": {},
   "outputs": [
    {
     "name": "stdout",
     "output_type": "stream",
     "text": [
      "sk-2b\n"
     ]
    }
   ],
   "source": [
    "import os\n",
    "from dotenv import load_dotenv\n",
    "\n",
    "load_dotenv()\n",
    "deepseek_api_key = os.getenv(\"DEEPSEEK_API_KEY\")  # DEEPSEEK_API_KEY = \"sk-xxxx\"\n",
    "print(deepseek_api_key[:5])"
   ]
  },
  {
   "cell_type": "code",
   "execution_count": 4,
   "metadata": {},
   "outputs": [
    {
     "name": "stdout",
     "output_type": "stream",
     "text": [
      "{'question': 'Which is the longest river in the world?', 'answer': 'The Nile River'}\n"
     ]
    }
   ],
   "source": [
    "import json\n",
    "from openai import OpenAI\n",
    "\n",
    "client = OpenAI(\n",
    "    api_key=deepseek_api_key,\n",
    "    base_url=\"https://api.deepseek.com\",\n",
    ")\n",
    "\n",
    "system_prompt = \"\"\"\n",
    "The user will provide some exam text. Please parse the \"question\" and \"answer\" and output them in JSON format. \n",
    "\n",
    "EXAMPLE INPUT: \n",
    "Which is the highest mountain in the world? Mount Everest.\n",
    "\n",
    "EXAMPLE JSON OUTPUT:\n",
    "{\n",
    "    \"question\": \"Which is the highest mountain in the world?\",\n",
    "    \"answer\": \"Mount Everest\"\n",
    "}\n",
    "\"\"\"\n",
    "\n",
    "user_prompt = \"Which is the longest river in the world? The Nile River.\"\n",
    "\n",
    "messages = [\n",
    "    {\"role\": \"system\", \"content\": system_prompt},\n",
    "    {\"role\": \"user\", \"content\": user_prompt},\n",
    "]\n",
    "\n",
    "response = client.chat.completions.create(\n",
    "    model=\"deepseek-chat\", messages=messages, response_format={\"type\": \"json_object\"}\n",
    ")\n",
    "\n",
    "print(json.loads(response.choices[0].message.content))"
   ]
  },
  {
   "cell_type": "markdown",
   "metadata": {},
   "source": []
  },
  {
   "cell_type": "markdown",
   "metadata": {},
   "source": [
    "2. ChatGLM\n",
    "> https://www.bigmodel.cn/usercenter/proj-mgmt/apikeys"
   ]
  },
  {
   "cell_type": "code",
   "execution_count": 5,
   "metadata": {},
   "outputs": [
    {
     "name": "stdout",
     "output_type": "stream",
     "text": [
      "c8d0c\n"
     ]
    }
   ],
   "source": [
    "import os\n",
    "from dotenv import load_dotenv\n",
    "\n",
    "load_dotenv()\n",
    "zhipuai_api_key = os.getenv(\"ZHIPUAI_API_KEY\")  # ZHIPUAI_API_KEY = \"xxxx\"\n",
    "print(zhipuai_api_key[:5])"
   ]
  },
  {
   "cell_type": "code",
   "execution_count": 12,
   "metadata": {},
   "outputs": [
    {
     "name": "stdout",
     "output_type": "stream",
     "text": [
      "{'name': '李雷', 'age': 24, 'height_cm': 185, 'weight_kg': 75}\n"
     ]
    }
   ],
   "source": [
    "from zhipuai import ZhipuAI\n",
    "\n",
    "client = ZhipuAI(api_key=zhipuai_api_key)\n",
    "system_prompt = \"\"\"\n",
    "你是一个信息抽取模型，可以抽取出用户基本信息，返回json格式, 字段名称使用中文\n",
    "\"\"\"\n",
    "\n",
    "messages = [\n",
    "    {\"role\": \"system\", \"content\": system_prompt},\n",
    "    {\"role\": \"user\", \"content\": \"你好，我叫李雷，我今年24岁，身高185cm，体重75kg\"},\n",
    "]\n",
    "response = client.chat.completions.create(\n",
    "    model=\"glm-4-plus\",\n",
    "    messages=messages,\n",
    "    response_format={\"type\": \"json_object\"},\n",
    "    max_tokens=1024,\n",
    ")\n",
    "print(json.loads(response.choices[0].message.content))"
   ]
  },
  {
   "cell_type": "markdown",
   "metadata": {},
   "source": []
  }
 ],
 "metadata": {
  "kernelspec": {
   "display_name": "myenv",
   "language": "python",
   "name": "python3"
  },
  "language_info": {
   "codemirror_mode": {
    "name": "ipython",
    "version": 3
   },
   "file_extension": ".py",
   "mimetype": "text/x-python",
   "name": "python",
   "nbconvert_exporter": "python",
   "pygments_lexer": "ipython3",
   "version": "3.8.20"
  }
 },
 "nbformat": 4,
 "nbformat_minor": 2
}
